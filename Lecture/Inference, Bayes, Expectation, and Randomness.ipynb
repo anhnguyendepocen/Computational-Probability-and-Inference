{
 "cells": [
  {
   "cell_type": "markdown",
   "metadata": {},
   "source": [
    "# Inference, Bayes, Expectations, and Randomness"
   ]
  },
  {
   "cell_type": "code",
   "execution_count": 1,
   "metadata": {
    "collapsed": false
   },
   "outputs": [],
   "source": [
    "import numpy as np\n",
    "import matplotlib.pyplot as plt\n",
    "%matplotlib inline\n",
    "%load_ext watermark"
   ]
  },
  {
   "cell_type": "code",
   "execution_count": 2,
   "metadata": {
    "collapsed": false
   },
   "outputs": [
    {
     "name": "stdout",
     "output_type": "stream",
     "text": [
      "Ryan Sloot | 2016-10-08 \n",
      "\n",
      "CPython 3.5.1\n",
      "IPython 4.2.0\n"
     ]
    }
   ],
   "source": [
    "%watermark --author \"Ryan Sloot |\" -d -v"
   ]
  },
  {
   "cell_type": "markdown",
   "metadata": {},
   "source": [
    "### Independent Random Variables\n",
    "- R.V.s: $W, I, X, Y$\n",
    "- joint pdfs: $ p_{W,I}$ and $p_{X,Y} $\n",
    "\n"
   ]
  },
  {
   "cell_type": "code",
   "execution_count": 3,
   "metadata": {
    "collapsed": true
   },
   "outputs": [],
   "source": [
    "## W-->sunny, rainy, snowy | I-->1,0\n",
    "prob_W_I = np.array([[1/2, 0], [0, 1/6], [0,1/3]])"
   ]
  },
  {
   "cell_type": "code",
   "execution_count": 4,
   "metadata": {
    "collapsed": true
   },
   "outputs": [],
   "source": [
    "## Marginal distributions\n",
    "## of p_W and p_I\n",
    "prob_W = prob_W_I.sum(axis=1)\n",
    "prob_I = prob_W_I.sum(axis=0)"
   ]
  },
  {
   "cell_type": "code",
   "execution_count": 5,
   "metadata": {
    "collapsed": false
   },
   "outputs": [
    {
     "data": {
      "text/plain": [
       "array([ 0.5,  0.5])"
      ]
     },
     "execution_count": 5,
     "metadata": {},
     "output_type": "execute_result"
    }
   ],
   "source": [
    "prob_I"
   ]
  },
  {
   "cell_type": "code",
   "execution_count": 6,
   "metadata": {
    "collapsed": false
   },
   "outputs": [
    {
     "data": {
      "text/plain": [
       "array([[False, False],\n",
       "       [False, False],\n",
       "       [False, False]], dtype=bool)"
      ]
     },
     "execution_count": 6,
     "metadata": {},
     "output_type": "execute_result"
    }
   ],
   "source": [
    "np.outer(prob_W, prob_I)==prob_W_I\n",
    "## not independent"
   ]
  },
  {
   "cell_type": "code",
   "execution_count": 7,
   "metadata": {
    "collapsed": false
   },
   "outputs": [],
   "source": [
    "prob_X_Y = np.array([[1/4,1/4], [1/12,1/12],[1/6,1/6]])"
   ]
  },
  {
   "cell_type": "code",
   "execution_count": 8,
   "metadata": {
    "collapsed": true
   },
   "outputs": [],
   "source": [
    "prob_X = prob_X_Y.sum(axis=1)\n",
    "prob_Y = prob_X_Y.sum(axis=0)"
   ]
  },
  {
   "cell_type": "code",
   "execution_count": 9,
   "metadata": {
    "collapsed": false
   },
   "outputs": [
    {
     "data": {
      "text/plain": [
       "array([[ True,  True],\n",
       "       [ True,  True],\n",
       "       [ True,  True]], dtype=bool)"
      ]
     },
     "execution_count": 9,
     "metadata": {},
     "output_type": "execute_result"
    }
   ],
   "source": [
    "np.outer(prob_X, prob_Y) == prob_X_Y"
   ]
  },
  {
   "cell_type": "markdown",
   "metadata": {
    "collapsed": true
   },
   "source": [
    "***\n",
    "### Ice Cream Sales in Inferenceville\n",
    "$\\qquad S$: Sales, $C$: Crime, $T$: Temperature"
   ]
  },
  {
   "cell_type": "code",
   "execution_count": 10,
   "metadata": {
    "collapsed": false
   },
   "outputs": [
    {
     "data": {
      "text/plain": [
       "0.28571428571428575"
      ]
     },
     "execution_count": 10,
     "metadata": {},
     "output_type": "execute_result"
    }
   ],
   "source": [
    ".1/.35"
   ]
  },
  {
   "cell_type": "code",
   "execution_count": 11,
   "metadata": {
    "collapsed": false
   },
   "outputs": [
    {
     "data": {
      "text/plain": [
       "0.6153846153846154"
      ]
     },
     "execution_count": 11,
     "metadata": {},
     "output_type": "execute_result"
    }
   ],
   "source": [
    ".4/.65"
   ]
  },
  {
   "cell_type": "code",
   "execution_count": 12,
   "metadata": {
    "collapsed": false
   },
   "outputs": [
    {
     "data": {
      "text/plain": [
       "0.6153846153846154"
      ]
     },
     "execution_count": 12,
     "metadata": {},
     "output_type": "execute_result"
    }
   ],
   "source": [
    "8/13"
   ]
  },
  {
   "cell_type": "code",
   "execution_count": 13,
   "metadata": {
    "collapsed": false
   },
   "outputs": [],
   "source": [
    "P_S_C = np.array([[0.4, 0.1], [.25, .25]])\n",
    "P_S = P_S_C.sum(axis=1)#rows\n",
    "P_C = P_S_C.sum(axis=0)#cols"
   ]
  },
  {
   "cell_type": "code",
   "execution_count": 14,
   "metadata": {
    "collapsed": false
   },
   "outputs": [
    {
     "data": {
      "text/plain": [
       "array([[False, False],\n",
       "       [False, False]], dtype=bool)"
      ]
     },
     "execution_count": 14,
     "metadata": {},
     "output_type": "execute_result"
    }
   ],
   "source": [
    "np.outer(P_S, P_C) == P_S_C"
   ]
  },
  {
   "cell_type": "code",
   "execution_count": 15,
   "metadata": {
    "collapsed": true
   },
   "outputs": [],
   "source": [
    "p_s_c_given_T0 = np.array([[0.72, 0.08], [0.18, 0.02]])\n",
    "p_s_c_given_T1 = np.array([[0.08, 0.12], [0.32, 0.48]])"
   ]
  },
  {
   "cell_type": "code",
   "execution_count": 16,
   "metadata": {
    "collapsed": false
   },
   "outputs": [],
   "source": [
    "p_s_givenT0 = p_s_c_given_T0.sum(axis=1)\n",
    "p_s_givenT1 = p_s_c_given_T1.sum(axis=1)\n",
    "p_c_givenT0 = p_s_c_given_T0.sum(axis=0)\n",
    "p_c_givenT1 = p_s_c_given_T1.sum(axis=0)"
   ]
  },
  {
   "cell_type": "code",
   "execution_count": 17,
   "metadata": {
    "collapsed": false
   },
   "outputs": [
    {
     "data": {
      "text/plain": [
       "array([[False,  True],\n",
       "       [False,  True]], dtype=bool)"
      ]
     },
     "execution_count": 17,
     "metadata": {},
     "output_type": "execute_result"
    }
   ],
   "source": [
    "np.outer(p_s_givenT0, p_c_givenT0) == p_s_c_given_T0\n",
    "##hmmm"
   ]
  },
  {
   "cell_type": "code",
   "execution_count": 18,
   "metadata": {
    "collapsed": false
   },
   "outputs": [
    {
     "data": {
      "text/plain": [
       "array([[ 0.72,  0.08],\n",
       "       [ 0.18,  0.02]])"
      ]
     },
     "execution_count": 18,
     "metadata": {},
     "output_type": "execute_result"
    }
   ],
   "source": [
    "p_s_c_given_T0"
   ]
  },
  {
   "cell_type": "markdown",
   "metadata": {},
   "source": [
    "***\n",
    "Find $P_T(t)$<br><br>\n",
    "Using total probability to marginalize for t=0:<br>\n",
    "\n",
    "$\\qquad P(s=0, c=0) = P(s=0,\\ c=0\\ |\\ t=0)\\cdot P(t=0) + P(s=0,\\ c=0\\ |\\ t=1)\\cdot P(t=1)$\n",
    "<br><br>\n",
    "can replace $P(t=1)$ with $1-P(t=0)$\n",
    "***"
   ]
  },
  {
   "cell_type": "markdown",
   "metadata": {},
   "source": [
    "$P(s=0,\\ c=0)$"
   ]
  },
  {
   "cell_type": "code",
   "execution_count": 19,
   "metadata": {
    "collapsed": false
   },
   "outputs": [
    {
     "name": "stdout",
     "output_type": "stream",
     "text": [
      "0.40\n"
     ]
    }
   ],
   "source": [
    "print('%.2f'%P_S_C[0,0])"
   ]
  },
  {
   "cell_type": "markdown",
   "metadata": {},
   "source": [
    "$P(s=0,\\ c=0 \\ |\\ t=0)$:"
   ]
  },
  {
   "cell_type": "code",
   "execution_count": 20,
   "metadata": {
    "collapsed": false
   },
   "outputs": [
    {
     "name": "stdout",
     "output_type": "stream",
     "text": [
      "0.72\n"
     ]
    }
   ],
   "source": [
    "## given t=0, prob s=0,c=0\n",
    "print('%.2f' % p_s_c_given_T0[0,0])"
   ]
  },
  {
   "cell_type": "markdown",
   "metadata": {},
   "source": [
    "right now we have:<br><br>\n",
    "$\\qquad0.40 = 0.72\\cdot P(t=0) + P(s=0,\\ c=0\\ |\\ t=1)\\cdot(1-P(t=0))$<br><br>\n",
    "finding: $P(s=0\\ ,c=0\\ |\\ t=1)$:"
   ]
  },
  {
   "cell_type": "code",
   "execution_count": 21,
   "metadata": {
    "collapsed": false
   },
   "outputs": [
    {
     "name": "stdout",
     "output_type": "stream",
     "text": [
      "0.08\n"
     ]
    }
   ],
   "source": [
    "print('%.2f'% p_s_c_given_T1[0,0])"
   ]
  },
  {
   "cell_type": "markdown",
   "metadata": {},
   "source": [
    "Now solving:<br><br>\n",
    "$\\qquad 0.40=0.72\\cdot P(t=0) + 0.08 - 0.08\\cdot P(t=0)$"
   ]
  },
  {
   "cell_type": "code",
   "execution_count": 22,
   "metadata": {
    "collapsed": false
   },
   "outputs": [
    {
     "data": {
      "text/plain": [
       "{0: 0.5, 1: 0.5}"
      ]
     },
     "execution_count": 22,
     "metadata": {},
     "output_type": "execute_result"
    }
   ],
   "source": [
    "##Solve\n",
    "P_T = {}\n",
    "P_T[0] = (0.40-0.08)/(0.72-0.08)\n",
    "P_T[1] = 1 - P_T[0]\n",
    "P_T"
   ]
  },
  {
   "cell_type": "markdown",
   "metadata": {
    "collapsed": true
   },
   "source": [
    "***\n",
    "## Expectation"
   ]
  },
  {
   "cell_type": "code",
   "execution_count": 23,
   "metadata": {
    "collapsed": true
   },
   "outputs": [],
   "source": [
    "## simulating 1000 die rolls\n",
    "import random"
   ]
  },
  {
   "cell_type": "code",
   "execution_count": 24,
   "metadata": {
    "collapsed": false
   },
   "outputs": [
    {
     "data": {
      "text/plain": [
       "{1: 160, 2: 166, 3: 165, 4: 163, 5: 183, 6: 163}"
      ]
     },
     "execution_count": 24,
     "metadata": {},
     "output_type": "execute_result"
    }
   ],
   "source": [
    "rolls = {i:0 for i in range(1,7)}\n",
    "random.seed(1)\n",
    "for _ in range(1000):\n",
    "    roll = random.randint(1,6)\n",
    "    rolls[roll] += 1\n",
    "rolls"
   ]
  },
  {
   "cell_type": "code",
   "execution_count": 25,
   "metadata": {
    "collapsed": false
   },
   "outputs": [
    {
     "data": {
      "text/plain": [
       "3.532"
      ]
     },
     "execution_count": 25,
     "metadata": {},
     "output_type": "execute_result"
    }
   ],
   "source": [
    "expected_val = np.array([k*v for k,v in rolls.items()]).sum() / 1000\n",
    "expected_val"
   ]
  },
  {
   "cell_type": "markdown",
   "metadata": {},
   "source": [
    "<strong> Variance using expectations: </strong><br>\n",
    "$\\qquad var(X)=\\mathbb{E} [X^2]- (\\mathbb{E} [X])^2$"
   ]
  },
  {
   "cell_type": "code",
   "execution_count": 26,
   "metadata": {
    "collapsed": true
   },
   "outputs": [],
   "source": [
    "L1 = {-1: 999999/1000000, 999: 1/1000000}\n",
    "L2 = {-1: 999999/1000000, 999999: 1/1000000}\n",
    "L3 = {-1: 9/10, 9: 1/10}"
   ]
  },
  {
   "cell_type": "code",
   "execution_count": 27,
   "metadata": {
    "collapsed": false
   },
   "outputs": [
    {
     "data": {
      "text/plain": [
       "0.99999899999999975"
      ]
     },
     "execution_count": 27,
     "metadata": {},
     "output_type": "execute_result"
    }
   ],
   "source": [
    "## L1\n",
    "import math\n",
    "e_x2 = np.array([k**2*v for k,v in L1.items()]).sum()\n",
    "e_x_2 = np.array([k*v for k,v in L1.items()]).sum()**2\n",
    "sd_l1 = math.sqrt(e_x2-e_x_2)\n",
    "e_x2 - e_x_2"
   ]
  },
  {
   "cell_type": "code",
   "execution_count": 28,
   "metadata": {
    "collapsed": false
   },
   "outputs": [
    {
     "data": {
      "text/plain": [
       "999999.0"
      ]
     },
     "execution_count": 28,
     "metadata": {},
     "output_type": "execute_result"
    }
   ],
   "source": [
    "## L2\n",
    "e_x2 = np.array([k**2*v for k,v in L2.items()]).sum()\n",
    "e_x_2 = np.array([k*v for k,v in L2.items()]).sum()**2\n",
    "sd_l2 = math.sqrt(e_x2-e_x_2)\n",
    "e_x2 - e_x_2"
   ]
  },
  {
   "cell_type": "code",
   "execution_count": 29,
   "metadata": {
    "collapsed": false
   },
   "outputs": [
    {
     "data": {
      "text/plain": [
       "9.0"
      ]
     },
     "execution_count": 29,
     "metadata": {},
     "output_type": "execute_result"
    }
   ],
   "source": [
    "## L3\n",
    "e_x2 = np.array([k**2*v for k,v in L3.items()]).sum()\n",
    "e_x_2 = np.array([k*v for k,v in L3.items()]).sum()**2\n",
    "sd_l3 = math.sqrt(e_x2-e_x_2)\n",
    "e_x2 - e_x_2"
   ]
  },
  {
   "cell_type": "code",
   "execution_count": 30,
   "metadata": {
    "collapsed": false
   },
   "outputs": [
    {
     "name": "stdout",
     "output_type": "stream",
     "text": [
      "Standard Deivations:\n",
      "L1: 0.999999\n",
      "L2: 999.999500\n",
      "L3: 3.000000\n",
      "\n"
     ]
    }
   ],
   "source": [
    "print('Standard Deivations:\\nL1: %f\\nL2: %f\\nL3: %f\\n' % (sd_l1,sd_l2,sd_l3))"
   ]
  },
  {
   "cell_type": "markdown",
   "metadata": {
    "collapsed": true
   },
   "source": [
    "***\n",
    "***"
   ]
  }
 ],
 "metadata": {
  "kernelspec": {
   "display_name": "Python 3",
   "language": "python",
   "name": "python3"
  },
  "language_info": {
   "codemirror_mode": {
    "name": "ipython",
    "version": 3
   },
   "file_extension": ".py",
   "mimetype": "text/x-python",
   "name": "python",
   "nbconvert_exporter": "python",
   "pygments_lexer": "ipython3",
   "version": "3.5.1"
  }
 },
 "nbformat": 4,
 "nbformat_minor": 0
}
