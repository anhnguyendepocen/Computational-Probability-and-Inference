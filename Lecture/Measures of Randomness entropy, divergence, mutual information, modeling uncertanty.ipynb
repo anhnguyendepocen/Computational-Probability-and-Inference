{
 "cells": [
  {
   "cell_type": "markdown",
   "metadata": {},
   "source": [
    "# Measures of Randomness:\n",
    " - Shannon Information Content\n",
    " - Entropy\n",
    " - Diveregence\n",
    " - Mutual Information\n",
    " - Modeling Uncertainty"
   ]
  },
  {
   "cell_type": "code",
   "execution_count": 1,
   "metadata": {
    "collapsed": false
   },
   "outputs": [],
   "source": [
    "import numpy as np\n",
    "import matplotlib.pyplot as plt\n",
    "%matplotlib inline\n",
    "%load_ext watermark"
   ]
  },
  {
   "cell_type": "code",
   "execution_count": 2,
   "metadata": {
    "collapsed": false
   },
   "outputs": [
    {
     "name": "stdout",
     "output_type": "stream",
     "text": [
      "Ryan Sloot | 2016-10-08 \n",
      "\n",
      "CPython 3.5.1\n",
      "IPython 4.2.0\n"
     ]
    }
   ],
   "source": [
    "%watermark --author \"Ryan Sloot |\" -d -v"
   ]
  },
  {
   "cell_type": "markdown",
   "metadata": {
    "collapsed": false
   },
   "source": [
    "#### Shannon Information Content\n",
    "$\\qquad$For event $A$: $\\ log_2\\frac{1}{p(A)}$<br>\n",
    " - measure of information in bits, can be thought of as measure of how suprised by results: high number $=>$ 'suprised' by results, high information gained, low number meaning little or no information gained.\n",
    "***\n",
    "#### Entropy (Shannon Entropy)\n",
    "$\\qquad H(X) = \\sum_{x\\in X}p_X(x)\\cdot log_2\\frac{1}{p_X(x)}$\n",
    " - How random a distribution is\n",
    " - On average, how many bits will need to store for r.v. $X$\n",
    " - i.e. Compressing an already compressed file does not really do anything<br><br>\n",
    "<strong>Key Idea:</strong><br>\n",
    "More Random $\\sim$ Less Predictable $\\sim$ Less compressible"
   ]
  },
  {
   "cell_type": "code",
   "execution_count": 3,
   "metadata": {
    "collapsed": false
   },
   "outputs": [],
   "source": [
    "entropy = lambda p: np.sum(p * np.log2(1 / p))"
   ]
  },
  {
   "cell_type": "code",
   "execution_count": 4,
   "metadata": {
    "collapsed": true
   },
   "outputs": [],
   "source": [
    "## three loteries {amount gained: prob}\n",
    "L1 = {-1: 999999/1000000, 9999: 1/1000000}\n",
    "L2 = {-1: 999999/1000000, 999999: 1/1000000}\n",
    "L3 = {-1: 9/10, 9: 1/10}"
   ]
  },
  {
   "cell_type": "code",
   "execution_count": 5,
   "metadata": {
    "collapsed": false
   },
   "outputs": [
    {
     "name": "stdout",
     "output_type": "stream",
     "text": [
      "Entropies (in bits):\n",
      "L1: 0.0000214\n",
      "L2: 0.0000214\n",
      "L3: 0.4689956\n"
     ]
    }
   ],
   "source": [
    "## compute entropy in bits for each Lottery\n",
    "H_l1 = entropy(np.array([prob for prob in L1.values()]))\n",
    "H_l2 = entropy(np.array([prob for prob in L2.values()]))\n",
    "H_l3 = entropy(np.array([prob for prob in L3.values()]))\n",
    "print('Entropies (in bits):\\nL1: %.7f\\nL2: %.7f\\nL3: %.7f' % (H_l1,H_l2,H_l3))"
   ]
  },
  {
   "cell_type": "markdown",
   "metadata": {},
   "source": [
    "For a random variable $X$ that takes on one of two values, one with probability $p$ and the other with probability $1−p$, plotting the entropy $H(p)$ as a function of $p$. "
   ]
  },
  {
   "cell_type": "code",
   "execution_count": 6,
   "metadata": {
    "collapsed": false
   },
   "outputs": [
    {
     "name": "stderr",
     "output_type": "stream",
     "text": [
      "C:\\Users\\Ryan\\AppData\\Local\\Continuum\\Miniconda3\\lib\\site-packages\\ipykernel\\__main__.py:1: RuntimeWarning: divide by zero encountered in true_divide\n",
      "  if __name__ == '__main__':\n",
      "C:\\Users\\Ryan\\AppData\\Local\\Continuum\\Miniconda3\\lib\\site-packages\\ipykernel\\__main__.py:1: RuntimeWarning: invalid value encountered in multiply\n",
      "  if __name__ == '__main__':\n"
     ]
    },
    {
     "data": {
      "image/png": "[encoded data removed]",
      "text/plain": [
       "<matplotlib.figure.Figure at 0x2555d01afd0>"
      ]
     },
     "metadata": {},
     "output_type": "display_data"
    }
   ],
   "source": [
    "p_list = np.linspace(0, 1, 50)\n",
    "hs = np.array([entropy(np.array([p, 1-p])) for p in p_list])\n",
    "plt.plot(p_list, hs)\n",
    "\n",
    "# max_point = plt.plot(p_list[np.argmax(hs)], hs.max(b), 'ro')\n",
    "# plt.text(p_list[np.argmax(hs)], hs.max(), \n",
    "#          '   Max Entropy: %.7f\\n   P: %.2f' % (hs.max(), p_list[np.argmax(hs)+1]))\n",
    "plt.ylim(0,1.05)\n",
    "plt.xlabel('p')\n",
    "plt.ylabel('H(Ber(p))')\n",
    "plt.show()"
   ]
  },
  {
   "cell_type": "markdown",
   "metadata": {},
   "source": [
    "### Divergence\n",
    "$\\qquad D(p\\parallel q) = \\sum_x p(x)\\cdot log_2\\frac{1}{q(x)} - \\sum_x p(x)\\cdot log_2\\frac{1}{p(x)}$<br>\n",
    "$\\qquad \\qquad \\ \\ \\ \\ \\ = \\mathbb E_{X\\sim P}[log_2\\frac{p(x)}{q(x)}]$ <br>\n",
    " - Way to measure how two distributions are in terms of bits\n",
    " - <strong>Basic idea</strong>: Look at penalty we pay if we were to use a different distribution to encode a sample from distribution p.\n",
    " - Gibbs inequality property: $D(p\\parallel q) = 0$ $iff$ $p==q$ for all $x$<br>\n",
    " In general, $D(p\\parallel q) \\neq D(q\\parallel p)$"
   ]
  },
  {
   "cell_type": "markdown",
   "metadata": {
    "collapsed": false
   },
   "source": [
    "***\n",
    "### Mutual Information\n",
    "$\\qquad I(X;Y) = D(p_{X,Y} \\parallel p_Xp_Y)$<br>\n",
    " - For two discrete r.v.s $X$ and $Y$, the mutual information between $X$ and $Y$, denoted as $I(X;Y)$, measures how much information they share.\n",
    " - <strong>Basic Idea:</strong> how far $X$ and $Y$ are from being independent, since if they were independent $I(X;Y)=0$\n",
    " - If $X=Y$ we would expect $X$ and $Y$ to share most possible amount of information, and would get $I(X;Y)=D(p_{X,Y} || p_Xp_Y)=H(X)$$-$meaning if $X$ and $Y$ are the same, then the number of bits they share is exactly the average number needed to store $X$(or $Y$), $H(X)$ bits"
   ]
  },
  {
   "cell_type": "code",
   "execution_count": 7,
   "metadata": {
    "collapsed": true
   },
   "outputs": [],
   "source": [
    "## joint space\n",
    "joint_prob_XY = np.array([[0.10, 0.09, 0.11], \n",
    "                          [0.08, 0.07, 0.07], \n",
    "                          [0.18, 0.13, 0.17]])"
   ]
  },
  {
   "cell_type": "code",
   "execution_count": 8,
   "metadata": {
    "collapsed": true
   },
   "outputs": [],
   "source": [
    "## Marginalize px and py\n",
    "prob_X = joint_prob_XY.sum(axis=1)\n",
    "prob_Y = joint_prob_XY.sum(axis=0)"
   ]
  },
  {
   "cell_type": "code",
   "execution_count": 9,
   "metadata": {
    "collapsed": false
   },
   "outputs": [
    {
     "data": {
      "text/plain": [
       "array([[ 0.108 ,  0.087 ,  0.105 ],\n",
       "       [ 0.0792,  0.0638,  0.077 ],\n",
       "       [ 0.1728,  0.1392,  0.168 ]])"
      ]
     },
     "execution_count": 9,
     "metadata": {},
     "output_type": "execute_result"
    }
   ],
   "source": [
    "## joint probability IF X and Y were independent\n",
    "joint_prob_XY_indep = np.outer(prob_X, prob_Y)\n",
    "joint_prob_XY_indep"
   ]
  },
  {
   "cell_type": "markdown",
   "metadata": {},
   "source": [
    "***\n",
    "Mutual information of $X$ and $Y$ is given by divergences between $p_{X,Y}$ and $p_Xp_Y$:\n",
    "\n",
    "$\\qquad I(X;Y) = D(p_{X,Y}\\parallel p_{X}p_{Y}) = \\sum _ x \\sum _ y p_{X, Y}(x, y) \\log _2 \\frac{p_{X, Y}(x, y)}{p_ X(x) p_ Y(y)}.$\n",
    "<br><br>Divergence Generally:<br>\n",
    "$\\qquad D(p\\parallel q)=\\sum_x p(x) log_2 \\frac{p(x)}{q(x)}$"
   ]
  },
  {
   "cell_type": "code",
   "execution_count": 10,
   "metadata": {
    "collapsed": false
   },
   "outputs": [],
   "source": [
    "info_divergence = lambda x,y: np.sum(x * np.log2(x/y))"
   ]
  },
  {
   "cell_type": "code",
   "execution_count": 11,
   "metadata": {
    "collapsed": false
   },
   "outputs": [
    {
     "data": {
      "text/plain": [
       "0.0022610829960697087"
      ]
     },
     "execution_count": 11,
     "metadata": {},
     "output_type": "execute_result"
    }
   ],
   "source": [
    "mutual_info_XY = info_divergence(joint_prob_XY,\n",
    "                                 joint_prob_XY_indep)\n",
    "mutual_info_XY"
   ]
  },
  {
   "cell_type": "markdown",
   "metadata": {},
   "source": [
    "***"
   ]
  },
  {
   "cell_type": "markdown",
   "metadata": {},
   "source": [
    "Suppose we have three r.v.s $S,C,D$, where both $C$ and $D$ are dependent on $S$ we know:<br><br>\n",
    "$\\qquad p_{C\\ |\\ S}(c\\ |\\ s) = 1\\ /\\ (2s+1)$ for $c \\in \\{ 0,1,\\ldots ,2s\\}$<br><br>\n",
    "and $D$ is $binom(q,S)$:<br><br>\n",
    "$\\qquad \\begin{eqnarray}\n",
    "        p_{D\\ |\\ S}(d\\ |\\ s) &= \\begin{cases} {s \\choose d}\\, q^d\\, (1-q)^{s-d} & d \\in \\{0,\\ldots,s\\} \\\\\n",
    "                0 & \\text{otherwise} \\end{cases}\n",
    "    \\end{eqnarray}$"
   ]
  },
  {
   "cell_type": "code",
   "execution_count": 12,
   "metadata": {
    "collapsed": false
   },
   "outputs": [],
   "source": [
    "s = np.array([1,2,3,4])\n",
    "p_S = [.25, .25, .25, .25]\n",
    "cs = np.array([i for i in range(2*len(s))])\n",
    "p_CS = np.zeros((len(cs),len(s)))\n",
    "for i in range(len(s)):\n",
    "    for c in cs:\n",
    "        p_CS[c,i] = (1/(2*s[i]+1))\n",
    "E_C_given_S=((p_CS*p_S).sum(axis=1)*cs).sum()\n",
    "p_C = p_CS.sum(axis=1)\n",
    "E_C = (p_C*cs).sum()"
   ]
  },
  {
   "cell_type": "code",
   "execution_count": 13,
   "metadata": {
    "collapsed": false
   },
   "outputs": [],
   "source": [
    "import scipy.stats\n",
    "def pmf_DS (p,d): \n",
    "    s = [1,2,3,4]\n",
    "    p_ds = []\n",
    "    for i in s:\n",
    "        p_ds.append(scipy.stats.binom(i,p).pmf(d))\n",
    "    return np.array(p_ds)"
   ]
  },
  {
   "cell_type": "code",
   "execution_count": 14,
   "metadata": {
    "collapsed": false
   },
   "outputs": [
    {
     "data": {
      "text/plain": [
       "array([ 0.2   ,  0.32  ,  0.384 ,  0.4096])"
      ]
     },
     "execution_count": 14,
     "metadata": {},
     "output_type": "execute_result"
    }
   ],
   "source": [
    "pmf_DS(.2,1)"
   ]
  },
  {
   "cell_type": "markdown",
   "metadata": {},
   "source": [
    "#### Two Consecutive 6s\n",
    "Expeceted number of rolls to see two consecutive 6s with a fair die"
   ]
  },
  {
   "cell_type": "code",
   "execution_count": 15,
   "metadata": {
    "collapsed": false
   },
   "outputs": [
    {
     "name": "stdout",
     "output_type": "stream",
     "text": [
      "6 rolls to see one six\n"
     ]
    }
   ],
   "source": [
    "## Geometric dist\n",
    "p = 1/6\n",
    "one_six_expected = 1/p #E[X]=1/p\n",
    "print('%d rolls to see one six' % one_six_expected)"
   ]
  },
  {
   "cell_type": "markdown",
   "metadata": {},
   "source": [
    "so 6 rolls plus one additional roll: to get two consectutive, would give us 7 total per sequence; which would take on average one_six_expected, 6, to see again:<br>"
   ]
  },
  {
   "cell_type": "code",
   "execution_count": 16,
   "metadata": {
    "collapsed": false
   },
   "outputs": [
    {
     "name": "stdout",
     "output_type": "stream",
     "text": [
      "42 rolls (on average) to see two consecutive sixes\n"
     ]
    }
   ],
   "source": [
    "consecutive_sixes = 1/p*(one_six_expected+1)\n",
    "print('%.f rolls (on average) to see two consecutive sixes' % consecutive_sixes)"
   ]
  },
  {
   "cell_type": "markdown",
   "metadata": {},
   "source": [
    "***\n",
    "***\n",
    "## Summary\n",
    "Entropy and information divergence come up often in probabalistic modeling, especially when choosing maximum likelihood to decide which model to use. Information divergence will tell us how far a candidate model is from the observed data. Mutual information will help us figure out which r.v.s we should directly model pairwise interactions with$-$based on whether the information gained between the two is reason to include."
   ]
  }
 ],
 "metadata": {
  "kernelspec": {
   "display_name": "Python 3",
   "language": "python",
   "name": "python3"
  },
  "language_info": {
   "codemirror_mode": {
    "name": "ipython",
    "version": 3
   },
   "file_extension": ".py",
   "mimetype": "text/x-python",
   "name": "python",
   "nbconvert_exporter": "python",
   "pygments_lexer": "ipython3",
   "version": "3.5.1"
  }
 },
 "nbformat": 4,
 "nbformat_minor": 0
}
